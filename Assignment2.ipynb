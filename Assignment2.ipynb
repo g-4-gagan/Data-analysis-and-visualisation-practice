{
 "cells": [
  {
   "cell_type": "code",
   "execution_count": 16,
   "metadata": {},
   "outputs": [
    {
     "data": {
      "text/plain": [
       "['viveki']"
      ]
     },
     "execution_count": 16,
     "metadata": {},
     "output_type": "execute_result"
    }
   ],
   "source": [
    "# 1. Writeacodein Python to define a tupleof names and find only those starting with the letter ‘V’ and having \n",
    "# more than 5 letters using listcomprehension.\n",
    "names = ('abhishek','viveki','vivan','Adarsh')\n",
    "odd_list = lambda abc : [ x for x in abc if (x[0].upper()=='V' and len(x)>5 )]\n",
    "odd_list(names)"
   ]
  },
  {
   "cell_type": "code",
   "execution_count": 35,
   "metadata": {},
   "outputs": [
    {
     "name": "stdout",
     "output_type": "stream",
     "text": [
      "Enter the value of x:4\n",
      "Enter the value of y:12\n",
      "[4.0, 4.888888888888889, 5.777777777777778, 6.666666666666666, 7.555555555555555, 8.444444444444445, 9.333333333333332, 10.222222222222221, 11.11111111111111, 12.0]\n"
     ]
    }
   ],
   "source": [
    "# 2. Write a codein Python to createalist of evenly spaced integers between x andy (both inclusive)listcomprehension. \n",
    "# Accept x and y from the user.\n",
    "import numpy as np\n",
    "x=int(input(\"Enter the value of x:\"))\n",
    "y=int(input(\"Enter the value of y:\"))\n",
    "abc = np.linspace(x,y,10)\n",
    "num_list = [n for n in abc]\n",
    "print(num_list)"
   ]
  },
  {
   "cell_type": "code",
   "execution_count": 4,
   "metadata": {},
   "outputs": [
    {
     "data": {
      "text/plain": [
       "[3, 5, 7, 9]"
      ]
     },
     "execution_count": 4,
     "metadata": {},
     "output_type": "execute_result"
    }
   ],
   "source": [
    "# 3. Write a codein Python to define a lambda function that accepts two integer arguments x and y. The function \n",
    "# returns a list of odd integers between x and y (both inclusive).\n",
    "\n",
    "odd_list = lambda x,y : [ x for x in range(x,y+1) if x%2!=0 ] \n",
    "odd_list(2,10)"
   ]
  },
  {
   "cell_type": "code",
   "execution_count": 36,
   "metadata": {},
   "outputs": [
    {
     "data": {
      "text/plain": [
       "['Burger', 'Buttermilk', 'Cake', 'Jam', 'Pasta', 'Wrap']"
      ]
     },
     "execution_count": 36,
     "metadata": {},
     "output_type": "execute_result"
    }
   ],
   "source": [
    "# 4. Given  a  list  of  food  items, listFood  =  ['jAM',  'cake',  'pasTa',  'WraP', 'burger',  'Buttermilk'], \n",
    "# writeacodein    Python    tocreateanother    list listFood_Updatedfrom the previous one with all food items \n",
    "# in title case and sorted orderusing listcomprehension.\n",
    "listFood  =  ['jAM',  'cake',  'pasTa',  'WraP', 'burger',  'Buttermilk']\n",
    "listFood_Updated = sorted([x.title() for x in listFood])\n",
    "listFood_Updated"
   ]
  },
  {
   "cell_type": "code",
   "execution_count": 37,
   "metadata": {},
   "outputs": [
    {
     "data": {
      "text/plain": [
       "{'tree': 2, 'shrub': 2, 'creeper': 1, 'climber': 2}"
      ]
     },
     "execution_count": 37,
     "metadata": {},
     "output_type": "execute_result"
    }
   ],
   "source": [
    "# 5. Given   a   list, listPlants =  ['tree',  'shrub',  'creeper',  'tree', 'climber', 'shrub', 'climber'], \n",
    "# write a codein Python to create a dictionary storing the frequencyof each word ofthe list using dictionary comprehension.\n",
    "listPlants =  ['tree',  'shrub',  'creeper',  'tree', 'climber', 'shrub', 'climber']\n",
    "plants_frequency = {x: listPlants.count(x) for x in listPlants}\n",
    "plants_frequency"
   ]
  },
  {
   "cell_type": "code",
   "execution_count": 33,
   "metadata": {},
   "outputs": [
    {
     "name": "stdout",
     "output_type": "stream",
     "text": [
      "(('z', 12.098), ('g', 5.744), ('m', 43.213), ('k', 54.309))\n",
      "sorted tuple: (('g', 5.744), ('k', 54.309), ('m', 43.213), ('z', 12.098))\n"
     ]
    }
   ],
   "source": [
    "# 6. Given two lists, A = ['z', 'g', 'm', 'k'] andB = [12.098, 5.744, 43.213, 54.309], writeacodein Python to \n",
    "# create a tuple tupABby pairing elements from A and B. Sort the resultant tuple on the basis of first element of each pair.\n",
    "A = ['z', 'g', 'm', 'k']\n",
    "B = [12.098, 5.744, 43.213, 54.309] \n",
    "tupAB=tuple(zip(A,B))\n",
    "print(tupAB)\n",
    "print(\"sorted tuple:\",tuple(sorted(tupAB)))"
   ]
  },
  {
   "cell_type": "code",
   "execution_count": 30,
   "metadata": {},
   "outputs": [
    {
     "name": "stdout",
     "output_type": "stream",
     "text": [
      "origina list:  [ 8 19 14 14  4  8 18  1  6  6]\n",
      "[19, 14, 14, 18]\n"
     ]
    }
   ],
   "source": [
    "# 7. Write  a  code  in  Python  to create  a  list listNumof  10  random  integers.  Define  a  function \n",
    "# sqGreaterThan100()that  accepts the  list  and  alambda  function and  returnsa  list havingthose elements \n",
    "# of the list listNumeach of whose square is greater than 100.\n",
    "# Sample input list: [2, 11, 10, 5, 4, 6, 12, 11, 15, 19]\n",
    "# Output list: [11, 12, 11, 15, 19]\n",
    "listNumof=np.random.randint(1,20,10)\n",
    "print(\"origina list: \",listNumof)\n",
    "a=lambda y:[ x for x in y if (x**2>100 )]\n",
    "print(a(listNumof))"
   ]
  }
 ],
 "metadata": {
  "kernelspec": {
   "display_name": "Python 3",
   "language": "python",
   "name": "python3"
  },
  "language_info": {
   "codemirror_mode": {
    "name": "ipython",
    "version": 3
   },
   "file_extension": ".py",
   "mimetype": "text/x-python",
   "name": "python",
   "nbconvert_exporter": "python",
   "pygments_lexer": "ipython3",
   "version": "3.7.4"
  }
 },
 "nbformat": 4,
 "nbformat_minor": 4
}
