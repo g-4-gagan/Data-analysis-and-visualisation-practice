{
 "cells": [
  {
   "cell_type": "code",
   "execution_count": 4,
   "metadata": {},
   "outputs": [],
   "source": [
    "# 1. Writeacodein Python to define a tupleof names and find only those starting with the letter ‘V’ and having \n",
    "# more than 5 letters using listcomprehension."
   ]
  },
  {
   "cell_type": "code",
   "execution_count": 2,
   "metadata": {},
   "outputs": [],
   "source": [
    "# 2. Write a codein Python to createalist of evenly spaced integers between x andy (both inclusive)listcomprehension. \n",
    "# Accept x and y from the user."
   ]
  },
  {
   "cell_type": "code",
   "execution_count": 3,
   "metadata": {},
   "outputs": [],
   "source": [
    "# 3. Write a codein Python to define a lambda function that accepts two integer arguments x and y. The function \n",
    "# returns a list of odd integers between x and y (both inclusive)."
   ]
  },
  {
   "cell_type": "code",
   "execution_count": 5,
   "metadata": {},
   "outputs": [],
   "source": [
    "# 4. Given  a  list  of  food  items, listFood  =  ['jAM',  'cake',  'pasTa',  'WraP', 'burger',  'Buttermilk'], \n",
    "# writeacodein    Python    tocreateanother    list listFood_Updatedfrom the previous one with all food items \n",
    "# in title case and sorted orderusing listcomprehension."
   ]
  },
  {
   "cell_type": "code",
   "execution_count": 6,
   "metadata": {},
   "outputs": [],
   "source": [
    "# 5. Given   a   list, listPlants =  ['tree',  'shrub',  'creeper',  'tree', 'climber', 'shrub', 'climber'], \n",
    "# write a codein Python to create a dictionary storing the frequencyof each word ofthe list using dictionary comprehension."
   ]
  },
  {
   "cell_type": "code",
   "execution_count": 7,
   "metadata": {},
   "outputs": [],
   "source": [
    "# 6. Given two lists, A = ['z', 'g', 'm', 'k'] andB = [12.098, 5.744, 43.213, 54.309], writeacodein Python to \n",
    "# create a tuple tupABby pairing elements fromAand B. Sort the resultant tupleon the basis of first element of each pair."
   ]
  },
  {
   "cell_type": "code",
   "execution_count": 8,
   "metadata": {},
   "outputs": [],
   "source": [
    "# 7. Write  a  code  in  Python  to create  a  list listNumof  10  random  integers.  Define  a  function \n",
    "# sqGreaterThan100()that  accepts the  list  and  alambda  function and  returnsa  list havingthose elements \n",
    "# of the list listNumeach of whose square is greater than 100.\n",
    "# Sample input list: [2, 11, 10, 5, 4, 6, 12, 11, 15, 19]\n",
    "# Output list: [11, 12, 11, 15, 19]"
   ]
  },
  {
   "cell_type": "code",
   "execution_count": null,
   "metadata": {},
   "outputs": [],
   "source": []
  }
 ],
 "metadata": {
  "kernelspec": {
   "display_name": "Python 3",
   "language": "python",
   "name": "python3"
  },
  "language_info": {
   "codemirror_mode": {
    "name": "ipython",
    "version": 3
   },
   "file_extension": ".py",
   "mimetype": "text/x-python",
   "name": "python",
   "nbconvert_exporter": "python",
   "pygments_lexer": "ipython3",
   "version": "3.7.4"
  }
 },
 "nbformat": 4,
 "nbformat_minor": 4
}
