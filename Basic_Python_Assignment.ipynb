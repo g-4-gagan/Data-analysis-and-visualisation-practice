{
 "cells": [
  {
   "cell_type": "code",
   "execution_count": 1,
   "metadata": {},
   "outputs": [
    {
     "name": "stdout",
     "output_type": "stream",
     "text": [
      "Hello World!\n"
     ]
    }
   ],
   "source": [
    "#Python Program to Print Hello world!\n",
    "print('Hello World!')"
   ]
  },
  {
   "cell_type": "code",
   "execution_count": 2,
   "metadata": {},
   "outputs": [
    {
     "name": "stdout",
     "output_type": "stream",
     "text": [
      "11\n"
     ]
    }
   ],
   "source": [
    "#Python Program to Add Two Numbers\n",
    "a = 5\n",
    "b = 6\n",
    "c = a+b\n",
    "print(c)"
   ]
  },
  {
   "cell_type": "code",
   "execution_count": 5,
   "metadata": {},
   "outputs": [
    {
     "name": "stdout",
     "output_type": "stream",
     "text": [
      "3.0\n"
     ]
    }
   ],
   "source": [
    "#Python Program to Find the Square Root\n",
    "import math\n",
    "a=9\n",
    "print(math.sqrt(a))"
   ]
  },
  {
   "cell_type": "code",
   "execution_count": 8,
   "metadata": {},
   "outputs": [
    {
     "name": "stdout",
     "output_type": "stream",
     "text": [
      "Area of Triangle = 15.0\n"
     ]
    }
   ],
   "source": [
    "#Python Program to Calculate the Area of a Triangle\n",
    "base = 5\n",
    "height = 6\n",
    "print('Area of Triangle =',(base*height)/2)"
   ]
  },
  {
   "cell_type": "code",
   "execution_count": 1,
   "metadata": {},
   "outputs": [
    {
     "name": "stdout",
     "output_type": "stream",
     "text": [
      "Enter coffecient of x^2 : 4\n",
      "Enter coffecient of x : 3\n",
      "Enter constant term : 3\n",
      "Complex Roots\n",
      "-0.375  + i 6.244997998398398\n",
      "-0.375  - i 6.244997998398398\n"
     ]
    }
   ],
   "source": [
    "#Python Program to Solve Quadratic Equation\n",
    "import math\n",
    "a = float(input(\"Enter coffecient of x^2 : \"))\n",
    "b = float(input(\"Enter coffecient of x : \"))\n",
    "c = float(input(\"Enter constant term : \"))\n",
    "if(a == 0) :\n",
    "    print (\"Incorrect ! a should not be zero\")\n",
    "else :\n",
    "    d = (b ** 2)-(4*a*c)\n",
    "    sq_d = math.sqrt(abs(d))\n",
    "    if(d < 0) :\n",
    "        print (\"Complex Roots\")\n",
    "        print(- b / (2 * a), \" + i\", sq_d)\n",
    "        print(- b / (2 * a), \" - i\", sq_d)\n",
    "    elif (d == 0) :\n",
    "        print (\"Real and Equal Roots\")\n",
    "        print (-b / (2 * a))\n",
    "    else :\n",
    "        print (\"Real and Distinct Roots\")\n",
    "        print((-b + sq_d) / (2 * a))\n",
    "        print((-b - sq_d) / (2 * a))"
   ]
  },
  {
   "cell_type": "code",
   "execution_count": 10,
   "metadata": {},
   "outputs": [
    {
     "name": "stdout",
     "output_type": "stream",
     "text": [
      "Previous Value  5 7\n",
      "After Swapping  7 5\n"
     ]
    }
   ],
   "source": [
    "#Python Program to Swap Two Variables\n",
    "a = 5\n",
    "b = 7\n",
    "print('Previous Value ',a,b)\n",
    "a,b=b,a\n",
    "print('After Swapping ',a,b)"
   ]
  },
  {
   "cell_type": "code",
   "execution_count": 12,
   "metadata": {},
   "outputs": [
    {
     "name": "stdout",
     "output_type": "stream",
     "text": [
      "48\n"
     ]
    }
   ],
   "source": [
    "#Python Program to Generate a Random Number\n",
    "import random\n",
    "n = random.randint(0,100)\n",
    "print(n)"
   ]
  },
  {
   "cell_type": "code",
   "execution_count": 13,
   "metadata": {},
   "outputs": [
    {
     "name": "stdout",
     "output_type": "stream",
     "text": [
      "Enter a number: 4\n",
      "The entered number is Even\n"
     ]
    }
   ],
   "source": [
    "#Python Program to Check if a Number is Odd or Even\n",
    "n = int(input('Enter a number: '))\n",
    "if n%2==0:\n",
    "    print('The entered number is Even')\n",
    "else:\n",
    "    print('The entered number is Odd')"
   ]
  },
  {
   "cell_type": "code",
   "execution_count": 18,
   "metadata": {},
   "outputs": [
    {
     "name": "stdout",
     "output_type": "stream",
     "text": [
      "Enter first number: 3\n",
      "Enter second number: 4\n",
      "Enter third number: 8\n",
      "Third number is largest\n"
     ]
    }
   ],
   "source": [
    "#Python Program to Find the Largest Among Three Numbers\n",
    "a = int(input('Enter first number: '))\n",
    "b = int(input('Enter second number: '))\n",
    "c = int(input('Enter third number: '))\n",
    "if a>b:\n",
    "    if a>c:\n",
    "        print('First number is largest')\n",
    "    else:\n",
    "        print('Third number is largest')\n",
    "elif b>c:\n",
    "    print('Second number is largest')\n",
    "else:\n",
    "    print('Third number is largest')    "
   ]
  },
  {
   "cell_type": "code",
   "execution_count": 22,
   "metadata": {},
   "outputs": [
    {
     "name": "stdout",
     "output_type": "stream",
     "text": [
      "Enter a number: 7\n",
      "Entered number is prime\n"
     ]
    }
   ],
   "source": [
    "#Python Program to Check Whether a Given Number is a Prime Number\n",
    "a = int(input('Enter a number: '))\n",
    "factor = 0\n",
    "for i in range(1,a):\n",
    "    if a%i==0:\n",
    "        factor+=1\n",
    "if factor == 1:\n",
    "    print('Entered number is prime')\n",
    "else:\n",
    "    print('Entered number is non-prime')"
   ]
  },
  {
   "cell_type": "code",
   "execution_count": 24,
   "metadata": {},
   "outputs": [
    {
     "name": "stdout",
     "output_type": "stream",
     "text": [
      "Enter a number: 5\n",
      "Factorial of given number is:  120\n"
     ]
    }
   ],
   "source": [
    "#Python Program to Find the Factorial of a Number\n",
    "a = int(input('Enter a number: '))\n",
    "factorial = 1\n",
    "for i in range(1,a+1):\n",
    "    factorial*=i;\n",
    "print('Factorial of given number is: ',factorial)"
   ]
  },
  {
   "cell_type": "code",
   "execution_count": 3,
   "metadata": {},
   "outputs": [
    {
     "name": "stdout",
     "output_type": "stream",
     "text": [
      "Number upto which fibonacci series to be printed: 20\n",
      "1\n",
      "1\n",
      "2\n",
      "3\n",
      "5\n",
      "8\n",
      "13\n"
     ]
    }
   ],
   "source": [
    "#Python Program to Print the Fibonacci sequence\n",
    "a = int(input('Number upto which fibonacci series to be printed: '))\n",
    "x,y = 1,1\n",
    "while (x<a):\n",
    "    print(x)\n",
    "    z=x\n",
    "    x=y\n",
    "    y+=z"
   ]
  },
  {
   "cell_type": "code",
   "execution_count": 2,
   "metadata": {},
   "outputs": [
    {
     "name": "stdout",
     "output_type": "stream",
     "text": [
      "Enter the number upto which sum is to be calculated: 5\n",
      "The sum will be:  15\n"
     ]
    }
   ],
   "source": [
    "#Python Program to Find the Sum of Natural Numbers\n",
    "n = int(input('Enter the number upto which sum is to be calculated: '))\n",
    "sum=0\n",
    "for i in range(1,n+1):\n",
    "    sum+=i\n",
    "print('The sum will be: ',sum)"
   ]
  },
  {
   "cell_type": "code",
   "execution_count": 7,
   "metadata": {},
   "outputs": [
    {
     "name": "stdout",
     "output_type": "stream",
     "text": [
      "Enter the decimal number needs to be converted: 4\n",
      "0100"
     ]
    }
   ],
   "source": [
    "#Python Program to Convert Decimal to Binary\n",
    "\n",
    "def DecimalToBinary(num):\n",
    "     \n",
    "    if num >= 1:\n",
    "        DecimalToBinary(num // 2)\n",
    "    print(num % 2, end = '')\n",
    "\n",
    "x= int(input('Enter the decimal number needs to be converted: '))\n",
    "DecimalToBinary(x)"
   ]
  },
  {
   "cell_type": "code",
   "execution_count": 9,
   "metadata": {},
   "outputs": [
    {
     "name": "stdout",
     "output_type": "stream",
     "text": [
      "105\n"
     ]
    }
   ],
   "source": [
    "# Write a function to multiply all elements of a list\n",
    "lst = [3,5,1,7]\n",
    "out=1\n",
    "for a in lst:\n",
    "    out*=a\n",
    "print(out)"
   ]
  },
  {
   "cell_type": "code",
   "execution_count": 10,
   "metadata": {},
   "outputs": [
    {
     "name": "stdout",
     "output_type": "stream",
     "text": [
      "Enter a strig to be reversed: asa\n"
     ]
    }
   ],
   "source": [
    "#write a function to reverse a string\n",
    "s = input('Enter a strig to be reversed: ')\n"
   ]
  },
  {
   "cell_type": "code",
   "execution_count": 18,
   "metadata": {},
   "outputs": [
    {
     "name": "stdout",
     "output_type": "stream",
     "text": [
      "Enter the number to be checked: 400\n",
      "The entered number is not in the range of 0-100\n"
     ]
    }
   ],
   "source": [
    "#write a function to find if a given number lies in a given range\n",
    "n = int(input('Enter the number to be checked: '))\n",
    "if(n in range(0,100)):\n",
    "    print('The entered number is in the range of 0-100')\n",
    "else:\n",
    "    print('The entered number is not in the range of 0-100')"
   ]
  },
  {
   "cell_type": "code",
   "execution_count": 2,
   "metadata": {},
   "outputs": [
    {
     "name": "stdout",
     "output_type": "stream",
     "text": [
      "Enter the string : HEllo World\n",
      "The number of lowercase letters :  7\n",
      "The number of uppercase letters :  3\n"
     ]
    }
   ],
   "source": [
    "#write a function to find number of uppercase and lowercase letters in a string\n",
    "def count(str) :\n",
    "    lower = 0\n",
    "    upper = 0\n",
    "    for i in range(0,len(str)) :\n",
    "        if(str[i].islower()) :\n",
    "            lower += 1\n",
    "        elif(str[i].isupper()) :\n",
    "            upper += 1\n",
    "    print (\"The number of lowercase letters : \",lower)\n",
    "    print (\"The number of uppercase letters : \",upper)\n",
    "s = input(\"Enter the string : \")\n",
    "count(s)"
   ]
  },
  {
   "cell_type": "code",
   "execution_count": 3,
   "metadata": {},
   "outputs": [
    {
     "name": "stdout",
     "output_type": "stream",
     "text": [
      "Enter string to check palindrome : goog\n",
      "The entered string is palindrome\n"
     ]
    }
   ],
   "source": [
    "#write a function that tells if a string is a palindrome\n",
    "def check_palindrome(str) :\n",
    "    if(str == str[::-1]) :\n",
    "        return True\n",
    "x = input(\"Enter string to check palindrome : \")\n",
    "flag = check_palindrome(x)\n",
    "if(flag) :\n",
    "    print (\"The entered string is palindrome\")\n",
    "else :\n",
    "    print (\"The entered string is not palindrome\")"
   ]
  },
  {
   "cell_type": "code",
   "execution_count": 4,
   "metadata": {},
   "outputs": [
    {
     "name": "stdout",
     "output_type": "stream",
     "text": [
      "Enter the no. of terms : 5\n",
      "3\n",
      "5\n",
      "1\n",
      "3\n",
      "1\n",
      "[3, 5, 1]\n"
     ]
    }
   ],
   "source": [
    "#write a function to display unique elements of a list\n",
    "def get_unique(lst) :\n",
    "    new_lst = []\n",
    "    for i in lst :\n",
    "        if i not in new_lst :\n",
    "            new_lst.append(i)\n",
    "    return new_lst\n",
    "lst = []\n",
    "n = int(input(\"Enter the no. of terms : \"))\n",
    "for i in range(0,n) :\n",
    "    lst.append(int(input()))\n",
    "unique_lst = get_unique(lst)\n",
    "print (unique_lst)"
   ]
  },
  {
   "cell_type": "code",
   "execution_count": 5,
   "metadata": {},
   "outputs": [
    {
     "name": "stdout",
     "output_type": "stream",
     "text": [
      "Enter the no of rows: 7\n",
      "        1\n",
      "       1 1\n",
      "      1 2 1\n",
      "     1 3 3 1\n",
      "    1 4 6 4 1\n",
      "   1 5 10 10 5 1\n",
      "  1 6 15 20 15 6 1\n"
     ]
    }
   ],
   "source": [
    "#Write a function to print the Pascal’s Triangle\n",
    "n = int(input(\"Enter the no of rows: \"))\n",
    "\n",
    "for i in range(1, n+1) :\n",
    "    for j in range(0, n-i+1) :\n",
    "        print (' ', end='')\n",
    "    C = 1\n",
    "    for j in range(1, i+1) :\n",
    "        print(' ', C, sep='', end='')\n",
    "        C = C * (i - j) // j\n",
    "    print()"
   ]
  },
  {
   "cell_type": "code",
   "execution_count": 6,
   "metadata": {},
   "outputs": [
    {
     "name": "stdout",
     "output_type": "stream",
     "text": [
      "Enter a string to reverse: hello world\n"
     ]
    },
    {
     "data": {
      "text/plain": [
       "'dlrow olleh'"
      ]
     },
     "execution_count": 6,
     "metadata": {},
     "output_type": "execute_result"
    }
   ],
   "source": [
    "#Print a string in reverse order \n",
    "s = str(input('Enter a string to reverse: '))\n",
    "def reverse_str(a):\n",
    "    return a[::-1]\n",
    "reverse_str(s)"
   ]
  },
  {
   "cell_type": "code",
   "execution_count": 4,
   "metadata": {},
   "outputs": [
    {
     "name": "stdout",
     "output_type": "stream",
     "text": [
      "Enter the number of rows : 3\n",
      "Enter the number of columns : 3\n",
      "Enter the elements of matrix 1 : \n",
      "2\n",
      "3\n",
      "4\n",
      "5\n",
      "2\n",
      "4\n",
      "1\n",
      "2\n",
      "3\n",
      "Enter the elements of matrix 2 : \n",
      "6\n",
      "2\n",
      "8\n",
      "2\n",
      "1\n",
      "4\n",
      "6\n",
      "1\n",
      "2\n",
      "The addition of both the matrices is : \n",
      "8 5 12 \n",
      "7 3 8 \n",
      "7 3 5 \n"
     ]
    }
   ],
   "source": [
    "# WAP to input 2 matrix and add them\n",
    "\n",
    "rows = int(input(\"Enter the number of rows : \"))\n",
    "columns = int(input(\"Enter the number of columns : \"))\n",
    "mat1 = []\n",
    "mat2 = []\n",
    "print (\"Enter the elements of matrix 1 : \")\n",
    "for i in range(rows) :\n",
    "    row = []\n",
    "    for j in range(columns) :\n",
    "        row.append(int(input()))\n",
    "    mat1.append(row)\n",
    "print (\"Enter the elements of matrix 2 : \")\n",
    "for i in range(rows) :\n",
    "    row = []\n",
    "    for j in range(columns) :\n",
    "        row.append(int(input()))\n",
    "    mat2.append(row)\n",
    "print (\"The addition of both the matrices is : \")\n",
    "for i in range(rows) :\n",
    "    for j in range(columns) :\n",
    "        print (mat1[i][j] + mat2[i][j],end = \" \")\n",
    "    print()"
   ]
  },
  {
   "cell_type": "code",
   "execution_count": 2,
   "metadata": {},
   "outputs": [
    {
     "name": "stdout",
     "output_type": "stream",
     "text": [
      "Enter the items in the list : hello abc world myself\n",
      "['ello', 'bc', 'orld', 'yself']\n"
     ]
    }
   ],
   "source": [
    "#WAP to input a list of strings and create another list that contains the same strings with their first letter removed\n",
    "lst = input(\"Enter the items in the list : \").split()\n",
    "new_lst = []\n",
    "for i in range(len(lst)) :\n",
    "    new_lst.append(lst[i][1:])\n",
    "print(new_lst)"
   ]
  },
  {
   "cell_type": "code",
   "execution_count": 6,
   "metadata": {},
   "outputs": [
    {
     "name": "stdout",
     "output_type": "stream",
     "text": [
      "Enter the number of rows : 3\n",
      "Enter the number of columns : 3\n",
      "Enter the elements of matrix : \n",
      "2\n",
      "7\n",
      "1\n",
      "9\n",
      "2\n",
      "5\n",
      "8\n",
      "9\n",
      "1\n",
      "The elements in the main diagonal are : 2 2 1 \n",
      "The sum of elements of main diagonal is :  5\n"
     ]
    }
   ],
   "source": [
    "#WAP to print the sum of the main diagonal of a matrix(for there to be a diagonal rows is always equal to columns\n",
    "rows = int(input(\"Enter the number of rows : \"))\n",
    "columns = int(input(\"Enter the number of columns : \"))\n",
    "if (rows != columns) :\n",
    "    print (\"No. of rows and columns should be same !\")\n",
    "else :\n",
    "    mat = []\n",
    "    print (\"Enter the elements of matrix : \")\n",
    "    for i in range(rows) :\n",
    "        row = []\n",
    "        for j in range(columns) :\n",
    "            row.append(int(input()))\n",
    "        mat.append(row)\n",
    "    sum = 0\n",
    "    print (\"The elements in the main diagonal are : \",end=\"\")\n",
    "    for i in range(rows) :\n",
    "        for j in range(columns) :\n",
    "            if (i == j) :\n",
    "                print (mat[i][j],end=\" \")\n",
    "                sum += mat[i][j]\n",
    "    print(\"\\nThe sum of elements of main diagonal is : \",sum)"
   ]
  }
 ],
 "metadata": {
  "kernelspec": {
   "display_name": "Python 3",
   "language": "python",
   "name": "python3"
  },
  "language_info": {
   "codemirror_mode": {
    "name": "ipython",
    "version": 3
   },
   "file_extension": ".py",
   "mimetype": "text/x-python",
   "name": "python",
   "nbconvert_exporter": "python",
   "pygments_lexer": "ipython3",
   "version": "3.7.4"
  }
 },
 "nbformat": 4,
 "nbformat_minor": 4
}
